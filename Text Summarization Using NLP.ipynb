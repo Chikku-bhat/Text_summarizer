{
 "cells": [
  {
   "cell_type": "code",
   "execution_count": null,
   "id": "faf192bd",
   "metadata": {},
   "outputs": [],
   "source": [
    "# !pip instlla -U spacy\n",
    "# !python -m spacy download en_core_web_sm\n",
    "import spacy\n",
    "from spacy.lang.en.stop_words import STOP_WORDS\n",
    "from string import punctuation\n",
    "stopwords = list(STOP_WORDS)\n",
    "nlp = spacy.load(‘en_core_web_sm’)\n",
    "doc = nlp(text)\n",
    "tokens = [token.text for token in doc]\n",
    "print(tokens)\n",
    "punctuation = punctuation + ‘\\n’\n",
    "punctuation\n",
    "word_frequencies = {}\n",
    "for word in doc:\n",
    "if word.text.lower() not in stopwords:\n",
    "if word.text.lower() not in punctuation:\n",
    "if word.text not in word_frequencies.keys():\n",
    "word_frequencies[word.text] = 1\n",
    "else:\n",
    "word_frequencies[word.text] += 1\n",
    "print(word_frequencies)max_frequency = max(word_frequencies.values())\n",
    "max_frequency\n",
    "for word in word_frequencies.keys():\n",
    "word_frequencies[word] = word_frequencies[word]/max_frequency\n",
    "print(word_frequencies)\n",
    "sentence_tokens = [sent for sent in doc.sents]\n",
    "print(sentence_tokens)\n",
    "sentence_scores = {}\n",
    "for sent in sentence_tokens:\n",
    "for word in sent:\n",
    "if word.text.lower() in word_frequencies.keys():\n",
    "if sent not in sentence_scores.keys():\n",
    "sentence_scores[sent] = word_frequencies[word.text.lower()]\n",
    "else:\n",
    "sentence_scores[sent] += word_frequencies[word.text.lower()]\n",
    "sentence_scores\n",
    "from heapq import nlargest\n",
    "select_length = int(len(sentence_tokens)*0.3)\n",
    "select_length\n",
    "summary = nlargest(select_length, sentence_scores, key = sentence_scores.get)\n",
    "summary\n",
    "final_summary = [word.text for word in summary]\n",
    "summary = ‘ ‘.join(final_summary)\n",
    "\n"
   ]
  }
 ],
 "metadata": {
  "kernelspec": {
   "display_name": "Python 3 (ipykernel)",
   "language": "python",
   "name": "python3"
  },
  "language_info": {
   "codemirror_mode": {
    "name": "ipython",
    "version": 3
   },
   "file_extension": ".py",
   "mimetype": "text/x-python",
   "name": "python",
   "nbconvert_exporter": "python",
   "pygments_lexer": "ipython3",
   "version": "3.9.7"
  }
 },
 "nbformat": 4,
 "nbformat_minor": 5
}
